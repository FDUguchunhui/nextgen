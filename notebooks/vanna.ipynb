{
 "cells": [
  {
   "cell_type": "code",
   "execution_count": 24,
   "metadata": {},
   "outputs": [
    {
     "name": "stdout",
     "output_type": "stream",
     "text": [
      "The autoreload extension is already loaded. To reload it, use:\n",
      "  %reload_ext autoreload\n"
     ]
    }
   ],
   "source": [
    "import vanna\n",
    "from vanna.remote import VannaDefault\n",
    "from vanna.openai import OpenAI_Chat\n",
    "from vanna.chromadb import ChromaDB_VectorStore\n",
    "import dotenv\n",
    "import os\n",
    "import sys\n",
    "dotenv.load_dotenv()\n",
    "from nextgen.vanna.client import LlamaLLM\n",
    "from vanna.chromadb import ChromaDB_VectorStore\n",
    "%load_ext autoreload\n",
    "%autoreload 2"
   ]
  },
  {
   "cell_type": "code",
   "execution_count": 25,
   "metadata": {},
   "outputs": [],
   "source": [
    "OPENAI_API_KEY = os.getenv('OPENAI_API_KEY')"
   ]
  },
  {
   "cell_type": "code",
   "execution_count": 26,
   "metadata": {},
   "outputs": [],
   "source": [
    "config={\n",
    "    'APIM_SUBSCRIPTION_KEY': os.getenv('APIM_SUBSCRIPTION_KEY'),\n",
    "    'path': '../database/chroma'\n",
    "    }\n",
    "\n",
    "class MyVanna(ChromaDB_VectorStore, LlamaLLM):\n",
    "    def __init__(self, config=None):\n",
    "        ChromaDB_VectorStore.__init__(self, config=config)\n",
    "        LlamaLLM.__init__(self, config=config)\n",
    "\n",
    "vn = MyVanna(config=config)"
   ]
  },
  {
   "cell_type": "code",
   "execution_count": 27,
   "metadata": {},
   "outputs": [],
   "source": [
    "vn.connect_to_sqlite('../database/nextgen.db')"
   ]
  },
  {
   "cell_type": "code",
   "execution_count": 6,
   "metadata": {},
   "outputs": [
    {
     "name": "stdout",
     "output_type": "stream",
     "text": [
      "Adding ddl: CREATE TABLE proteins (\n",
      "    \"entry\" TEXT PRIMARY KEY,\n",
      "    \"entry_name\" TEXT,\n",
      "    \"gene_names\" TEXT,\n",
      "    \"gene_names_primary\" TEXT,\n",
      "    \"gene_names_synonym\" TEXT,\n",
      "    \"gene_names_ordered_locus\" TEXT,\n",
      "    \"gene_names_orf\" TEXT,\n",
      "    \"organism\" TEXT,\n",
      "    \"organism_id\" TEXT,\n",
      "    \"protein_names\" TEXT,\n",
      "    \"proteomes\" TEXT,\n",
      "    \"taxonomic_lineage\" TEXT,\n",
      "    \"taxonomic_lineage_ids\" TEXT,\n",
      "    \"virus_hosts\" TEXT,\n",
      "    \"alternative_products_isoforms\" TEXT,\n",
      "    \"alternative_sequence\" TEXT,\n",
      "    \"erroneous_gene_model_prediction\" TEXT,\n",
      "    \"fragment\" TEXT,\n",
      "    \"gene_encoded_by\" TEXT,\n",
      "    \"length\" TEXT,\n",
      "    \"mass\" TEXT,\n",
      "    \"mass_spectrometry\" TEXT,\n",
      "    \"natural_variant\" TEXT,\n",
      "    \"non_adjacent_residues\" TEXT,\n",
      "    \"non_standard_residue\" TEXT,\n",
      "    \"non_terminal_residue\" TEXT,\n",
      "    \"polymorphism\" TEXT,\n",
      "    \"rna_editing\" TEXT,\n",
      "    \"sequence\" TEXT,\n",
      "    \"sequence_caution\" TEXT,\n",
      "    \"sequence_conflict\" TEXT,\n",
      "    \"sequence_uncertainty\" TEXT,\n",
      "    \"sequence_version\" TEXT,\n",
      "    \"absorption\" TEXT,\n",
      "    \"active_site\" TEXT,\n",
      "    \"activity_regulation\" TEXT,\n",
      "    \"binding_site\" TEXT,\n",
      "    \"catalytic_activity\" TEXT,\n",
      "    \"cofactor\" TEXT,\n",
      "    \"dna_binding\" TEXT,\n",
      "    \"ec_number\" TEXT,\n",
      "    \"function_cc\" TEXT,\n",
      "    \"kinetics\" TEXT,\n",
      "    \"pathway\" TEXT,\n",
      "    \"ph_dependence\" TEXT,\n",
      "    \"redox_potential\" TEXT,\n",
      "    \"rhea_id\" TEXT,\n",
      "    \"site\" TEXT,\n",
      "    \"temperature_dependence\" TEXT,\n",
      "    \"annotation\" TEXT,\n",
      "    \"caution\" TEXT,\n",
      "    \"comments\" TEXT,\n",
      "    \"features\" TEXT,\n",
      "    \"keyword_id\" TEXT,\n",
      "    \"keywords\" TEXT,\n",
      "    \"miscellaneous_cc\" TEXT,\n",
      "    \"protein_existence\" TEXT,\n",
      "    \"reviewed\" TEXT,\n",
      "    \"tools\" TEXT,\n",
      "    \"uniparc\" TEXT,\n",
      "    \"interacts_with\" TEXT,\n",
      "    \"subunit_structure\" TEXT,\n",
      "    \"developmental_stage\" TEXT,\n",
      "    \"induction\" TEXT,\n",
      "    \"tissue_specificity\" TEXT,\n",
      "    \"gene_ontology_biological_process\" TEXT,\n",
      "    \"gene_ontology_cellular_component\" TEXT,\n",
      "    \"gene_ontology_go\" TEXT,\n",
      "    \"gene_ontology_molecular_function\" TEXT,\n",
      "    \"gene_ontology_ids\" TEXT,\n",
      "    \"allergenic_properties\" TEXT,\n",
      "    \"biotechnological_use\" TEXT,\n",
      "    \"disruption_phenotype\" TEXT,\n",
      "    \"involvement_in_disease\" TEXT,\n",
      "    \"mutagenesis\" TEXT,\n",
      "    \"pharmaceutical_use\" TEXT,\n",
      "    \"toxic_dose\" TEXT,\n",
      "    \"intramembrane\" TEXT,\n",
      "    \"subcellular_location_cc\" TEXT,\n",
      "    \"topological_domain\" TEXT,\n",
      "    \"transmembrane\" TEXT,\n",
      "    \"chain\" TEXT,\n",
      "    \"cross_link\" TEXT,\n",
      "    \"disulfide_bond\" TEXT,\n",
      "    \"glycosylation\" TEXT,\n",
      "    \"initiator_methionine\" TEXT,\n",
      "    \"lipidation\" TEXT,\n",
      "    \"modified_residue\" TEXT,\n",
      "    \"peptide\" TEXT,\n",
      "    \"post_translational_modification\" TEXT,\n",
      "    \"propeptide\" TEXT,\n",
      "    \"signal_peptide\" TEXT,\n",
      "    \"transit_peptide\" TEXT,\n",
      "    \"3d\" TEXT,\n",
      "    \"beta_strand\" TEXT,\n",
      "    \"helix\" TEXT,\n",
      "    \"turn\" TEXT,\n",
      "    \"pubmed_id\" TEXT,\n",
      "    \"date_of_creation\" TEXT,\n",
      "    \"date_of_last_modification\" TEXT,\n",
      "    \"date_of_last_sequence_modification\" TEXT,\n",
      "    \"entry_version\" TEXT,\n",
      "    \"coiled_coil\" TEXT,\n",
      "    \"compositional_bias\" TEXT,\n",
      "    \"domain_cc\" TEXT,\n",
      "    \"domain_ft\" TEXT,\n",
      "    \"motif\" TEXT,\n",
      "    \"protein_families\" TEXT,\n",
      "    \"region\" TEXT,\n",
      "    \"repeat\" TEXT,\n",
      "    \"zinc_finger\" TEXT\n",
      ")\n"
     ]
    },
    {
     "name": "stderr",
     "output_type": "stream",
     "text": [
      "Add of existing embedding ID: a61b820d-0a64-5972-b31c-fa4290ab9c7c-ddl\n",
      "Insert of existing embedding ID: a61b820d-0a64-5972-b31c-fa4290ab9c7c-ddl\n",
      "Add of existing embedding ID: 9cd894ff-e4b0-5ff9-b5a5-96a425857357-ddl\n",
      "Insert of existing embedding ID: 9cd894ff-e4b0-5ff9-b5a5-96a425857357-ddl\n",
      "Add of existing embedding ID: 5f37cdce-88dd-597a-a13b-49225c2f8529-ddl\n",
      "Insert of existing embedding ID: 5f37cdce-88dd-597a-a13b-49225c2f8529-ddl\n"
     ]
    },
    {
     "name": "stdout",
     "output_type": "stream",
     "text": [
      "Adding ddl: CREATE TABLE sample (\n",
      "    \"run\" TEXT PRIMARY KEY,\n",
      "    \"ipas\" TEXT,\n",
      "    \"id\" TEXT,\n",
      "    \"plate\" TEXT,\n",
      "    \"assay\" TEXT,\n",
      "    \"evotip\" TEXT,\n",
      "    \"well\" TEXT,\n",
      "    \"mced\" TEXT,\n",
      "    \"consider\" TEXT,\n",
      "    \"is_case\" BOOLEAN,\n",
      "    \"sex_1_male_0_female\" INTEGER,\n",
      "    \"cancer_type\" TEXT,\n",
      "    \"subtype\" TEXT,\n",
      "    \"stage\" TEXT,\n",
      "    \"age\" INTEGER,\n",
      "    \"smoking_status\" TEXT,\n",
      "    \"notes\" TEXT,\n",
      "    \"check\" BOOLEAN,\n",
      "    \"group\" TEXT\n",
      ")\n",
      "Adding ddl: CREATE TABLE measurement (\n",
      "    \"protein_group\" TEXT,\n",
      "    \"protein_ids\" TEXT,\n",
      "    \"genes\" TEXT,\n",
      "    \"citrullination_r\" BOOLEAN,\n",
      "    \"run\" TEXT,\n",
      "    \"intensity\" REAL\n",
      ")\n"
     ]
    }
   ],
   "source": [
    "df_ddl = vn.run_sql(\"SELECT type, sql FROM sqlite_master WHERE sql is not null\")\n",
    "\n",
    "for ddl in df_ddl['sql'].to_list():\n",
    "  vn.train(ddl=ddl)"
   ]
  },
  {
   "cell_type": "code",
   "execution_count": 7,
   "metadata": {},
   "outputs": [
    {
     "name": "stdout",
     "output_type": "stream",
     "text": [
      "Adding documentation....\n"
     ]
    },
    {
     "name": "stderr",
     "output_type": "stream",
     "text": [
      "Insert of existing embedding ID: 65d10831-f3f8-5ef4-9d92-97366d3e447a-doc\n",
      "Add of existing embedding ID: 65d10831-f3f8-5ef4-9d92-97366d3e447a-doc\n",
      "Insert of existing embedding ID: a207678a-bedc-5ca5-9447-22982d2a3ddf-doc\n",
      "Add of existing embedding ID: a207678a-bedc-5ca5-9447-22982d2a3ddf-doc\n"
     ]
    },
    {
     "name": "stdout",
     "output_type": "stream",
     "text": [
      "Adding documentation....\n"
     ]
    },
    {
     "data": {
      "text/plain": [
       "'a207678a-bedc-5ca5-9447-22982d2a3ddf-doc'"
      ]
     },
     "execution_count": 7,
     "metadata": {},
     "output_type": "execute_result"
    }
   ],
   "source": [
    "# The following are methods for adding training data. Make sure you modify the examples to match your database.\n",
    "\n",
    "# Sometimes you may want to add documentation about your business terminology or definitions.\n",
    "vn.train(documentation='''\n",
    "         In the database, the cancer_type column is used to store the type of cancer. The values and their meanings are as follows:\n",
    "         Breast: Breast cancer\n",
    "         Esophageal: Esophagus cancer\n",
    "         Lung: Lung cancer\n",
    "         Liver: Liver cancer\n",
    "         PDAC: Pancreatic ductal adenocarcinoma\n",
    "         Ovarian: Ovarian cancer\n",
    "         Gastric: Gastric cancer\n",
    "         Rectal: Rectal cancer\n",
    "         GEJ: Gastroesophageal junction cancer\n",
    "         Benign from SoCC cohort: Benign from SoCC cohort\n",
    "         MERIT Control: MERIT cohort a healthy control\n",
    "         LEAP Control: LEAP cohort a healthy control\n",
    "         When your see a name on the right side of this lookup table, you should use the value on the left side of the lookup table to replace it in your query.\n",
    "''')\n",
    "\n",
    "vn.train(documentation='''\n",
    "         In the measurement table, the protein_group column is used to store the name of protein for the intensity of that record.\n",
    "         The genes column is used to store the genes of the proteins for the intensity of that record.\n",
    "         The citrullination_r column is used to store the citrullination status of the proteins for the intensity of that record.\n",
    "         The run column indicate which sample the intensity is measured from. In combination with the protein_group column, it can be used to find the intensity of a specific protein from a specific sample.\n",
    "         ''')\n",
    "\n",
    "\n",
    "vn.train(question='What proteins are important for distinguishing between breast and gastric cancer', \n",
    "         sql='''SELECT T2.protein_group, T2.intensity, T1.cancer_type FROM sample AS T1 INNER JOIN measurement AS T2 ON T1.run = T2.run WHERE T1.cancer_type IN ('Breast', 'Gastric')\n",
    "SELECT T2.protein_group, T2.intensity, T1.cancer_type FROM sample AS T1 INNER JOIN measurement AS T2 ON T1.run = T2.run WHERE T1.cancer_type IN ('Breast', 'Gastric')''')\n",
    "\n",
    "# You can also add SQL queries to your training data. This is useful if you have some queries already laying around. You can just copy and paste those from your editor to begin generating new SQL.\n",
    "# vn.train(sql=\"SELECT * FROM my-table WHERE name = 'John Doe'\")"
   ]
  },
  {
   "cell_type": "code",
   "execution_count": 8,
   "metadata": {},
   "outputs": [
    {
     "data": {
      "text/html": [
       "<div>\n",
       "<style scoped>\n",
       "    .dataframe tbody tr th:only-of-type {\n",
       "        vertical-align: middle;\n",
       "    }\n",
       "\n",
       "    .dataframe tbody tr th {\n",
       "        vertical-align: top;\n",
       "    }\n",
       "\n",
       "    .dataframe thead th {\n",
       "        text-align: right;\n",
       "    }\n",
       "</style>\n",
       "<table border=\"1\" class=\"dataframe\">\n",
       "  <thead>\n",
       "    <tr style=\"text-align: right;\">\n",
       "      <th></th>\n",
       "      <th>id</th>\n",
       "      <th>question</th>\n",
       "      <th>content</th>\n",
       "      <th>training_data_type</th>\n",
       "    </tr>\n",
       "  </thead>\n",
       "  <tbody>\n",
       "    <tr>\n",
       "      <th>0</th>\n",
       "      <td>09f90530-e190-5453-86cc-5a778b3f5142-sql</td>\n",
       "      <td>what is expression of protein P02649 in breast...</td>\n",
       "      <td>SELECT T2.intensity FROM sample AS T1 INNER JO...</td>\n",
       "      <td>sql</td>\n",
       "    </tr>\n",
       "    <tr>\n",
       "      <th>0</th>\n",
       "      <td>a61b820d-0a64-5972-b31c-fa4290ab9c7c-ddl</td>\n",
       "      <td>None</td>\n",
       "      <td>CREATE TABLE proteins (\\n    \"entry\" TEXT PRIM...</td>\n",
       "      <td>ddl</td>\n",
       "    </tr>\n",
       "    <tr>\n",
       "      <th>1</th>\n",
       "      <td>9cd894ff-e4b0-5ff9-b5a5-96a425857357-ddl</td>\n",
       "      <td>None</td>\n",
       "      <td>CREATE TABLE sample (\\n    \"run\" TEXT PRIMARY ...</td>\n",
       "      <td>ddl</td>\n",
       "    </tr>\n",
       "    <tr>\n",
       "      <th>2</th>\n",
       "      <td>5f37cdce-88dd-597a-a13b-49225c2f8529-ddl</td>\n",
       "      <td>None</td>\n",
       "      <td>CREATE TABLE measurement (\\n    \"protein_group...</td>\n",
       "      <td>ddl</td>\n",
       "    </tr>\n",
       "    <tr>\n",
       "      <th>0</th>\n",
       "      <td>65d10831-f3f8-5ef4-9d92-97366d3e447a-doc</td>\n",
       "      <td>None</td>\n",
       "      <td>\\n         In the database, the cancer_type co...</td>\n",
       "      <td>documentation</td>\n",
       "    </tr>\n",
       "    <tr>\n",
       "      <th>1</th>\n",
       "      <td>a207678a-bedc-5ca5-9447-22982d2a3ddf-doc</td>\n",
       "      <td>None</td>\n",
       "      <td>\\n         In the measurement table, the prote...</td>\n",
       "      <td>documentation</td>\n",
       "    </tr>\n",
       "  </tbody>\n",
       "</table>\n",
       "</div>"
      ],
      "text/plain": [
       "                                         id  \\\n",
       "0  09f90530-e190-5453-86cc-5a778b3f5142-sql   \n",
       "0  a61b820d-0a64-5972-b31c-fa4290ab9c7c-ddl   \n",
       "1  9cd894ff-e4b0-5ff9-b5a5-96a425857357-ddl   \n",
       "2  5f37cdce-88dd-597a-a13b-49225c2f8529-ddl   \n",
       "0  65d10831-f3f8-5ef4-9d92-97366d3e447a-doc   \n",
       "1  a207678a-bedc-5ca5-9447-22982d2a3ddf-doc   \n",
       "\n",
       "                                            question  \\\n",
       "0  what is expression of protein P02649 in breast...   \n",
       "0                                               None   \n",
       "1                                               None   \n",
       "2                                               None   \n",
       "0                                               None   \n",
       "1                                               None   \n",
       "\n",
       "                                             content training_data_type  \n",
       "0  SELECT T2.intensity FROM sample AS T1 INNER JO...                sql  \n",
       "0  CREATE TABLE proteins (\\n    \"entry\" TEXT PRIM...                ddl  \n",
       "1  CREATE TABLE sample (\\n    \"run\" TEXT PRIMARY ...                ddl  \n",
       "2  CREATE TABLE measurement (\\n    \"protein_group...                ddl  \n",
       "0  \\n         In the database, the cancer_type co...      documentation  \n",
       "1  \\n         In the measurement table, the prote...      documentation  "
      ]
     },
     "execution_count": 8,
     "metadata": {},
     "output_type": "execute_result"
    }
   ],
   "source": [
    "# At any time you can inspect what training data the package is able to reference\n",
    "training_data = vn.get_training_data()\n",
    "training_data"
   ]
  },
  {
   "cell_type": "code",
   "execution_count": null,
   "metadata": {},
   "outputs": [],
   "source": []
  },
  {
   "cell_type": "code",
   "execution_count": 29,
   "metadata": {},
   "outputs": [
    {
     "name": "stderr",
     "output_type": "stream",
     "text": [
      "Number of requested results 10 is greater than number of elements in index 1, updating n_results = 1\n",
      "Number of requested results 10 is greater than number of elements in index 3, updating n_results = 3\n",
      "Number of requested results 10 is greater than number of elements in index 2, updating n_results = 2\n"
     ]
    },
    {
     "name": "stdout",
     "output_type": "stream",
     "text": [
      "SQL Prompt: [{'role': 'system', 'content': 'You are a SQLite expert. Please help to generate a SQL query to answer the question. Your response should ONLY be based on the given context and follow the response guidelines and format instructions. \\n===Tables \\nCREATE TABLE proteins (\\n    \"entry\" TEXT PRIMARY KEY,\\n    \"entry_name\" TEXT,\\n    \"gene_names\" TEXT,\\n    \"gene_names_primary\" TEXT,\\n    \"gene_names_synonym\" TEXT,\\n    \"gene_names_ordered_locus\" TEXT,\\n    \"gene_names_orf\" TEXT,\\n    \"organism\" TEXT,\\n    \"organism_id\" TEXT,\\n    \"protein_names\" TEXT,\\n    \"proteomes\" TEXT,\\n    \"taxonomic_lineage\" TEXT,\\n    \"taxonomic_lineage_ids\" TEXT,\\n    \"virus_hosts\" TEXT,\\n    \"alternative_products_isoforms\" TEXT,\\n    \"alternative_sequence\" TEXT,\\n    \"erroneous_gene_model_prediction\" TEXT,\\n    \"fragment\" TEXT,\\n    \"gene_encoded_by\" TEXT,\\n    \"length\" TEXT,\\n    \"mass\" TEXT,\\n    \"mass_spectrometry\" TEXT,\\n    \"natural_variant\" TEXT,\\n    \"non_adjacent_residues\" TEXT,\\n    \"non_standard_residue\" TEXT,\\n    \"non_terminal_residue\" TEXT,\\n    \"polymorphism\" TEXT,\\n    \"rna_editing\" TEXT,\\n    \"sequence\" TEXT,\\n    \"sequence_caution\" TEXT,\\n    \"sequence_conflict\" TEXT,\\n    \"sequence_uncertainty\" TEXT,\\n    \"sequence_version\" TEXT,\\n    \"absorption\" TEXT,\\n    \"active_site\" TEXT,\\n    \"activity_regulation\" TEXT,\\n    \"binding_site\" TEXT,\\n    \"catalytic_activity\" TEXT,\\n    \"cofactor\" TEXT,\\n    \"dna_binding\" TEXT,\\n    \"ec_number\" TEXT,\\n    \"function_cc\" TEXT,\\n    \"kinetics\" TEXT,\\n    \"pathway\" TEXT,\\n    \"ph_dependence\" TEXT,\\n    \"redox_potential\" TEXT,\\n    \"rhea_id\" TEXT,\\n    \"site\" TEXT,\\n    \"temperature_dependence\" TEXT,\\n    \"annotation\" TEXT,\\n    \"caution\" TEXT,\\n    \"comments\" TEXT,\\n    \"features\" TEXT,\\n    \"keyword_id\" TEXT,\\n    \"keywords\" TEXT,\\n    \"miscellaneous_cc\" TEXT,\\n    \"protein_existence\" TEXT,\\n    \"reviewed\" TEXT,\\n    \"tools\" TEXT,\\n    \"uniparc\" TEXT,\\n    \"interacts_with\" TEXT,\\n    \"subunit_structure\" TEXT,\\n    \"developmental_stage\" TEXT,\\n    \"induction\" TEXT,\\n    \"tissue_specificity\" TEXT,\\n    \"gene_ontology_biological_process\" TEXT,\\n    \"gene_ontology_cellular_component\" TEXT,\\n    \"gene_ontology_go\" TEXT,\\n    \"gene_ontology_molecular_function\" TEXT,\\n    \"gene_ontology_ids\" TEXT,\\n    \"allergenic_properties\" TEXT,\\n    \"biotechnological_use\" TEXT,\\n    \"disruption_phenotype\" TEXT,\\n    \"involvement_in_disease\" TEXT,\\n    \"mutagenesis\" TEXT,\\n    \"pharmaceutical_use\" TEXT,\\n    \"toxic_dose\" TEXT,\\n    \"intramembrane\" TEXT,\\n    \"subcellular_location_cc\" TEXT,\\n    \"topological_domain\" TEXT,\\n    \"transmembrane\" TEXT,\\n    \"chain\" TEXT,\\n    \"cross_link\" TEXT,\\n    \"disulfide_bond\" TEXT,\\n    \"glycosylation\" TEXT,\\n    \"initiator_methionine\" TEXT,\\n    \"lipidation\" TEXT,\\n    \"modified_residue\" TEXT,\\n    \"peptide\" TEXT,\\n    \"post_translational_modification\" TEXT,\\n    \"propeptide\" TEXT,\\n    \"signal_peptide\" TEXT,\\n    \"transit_peptide\" TEXT,\\n    \"3d\" TEXT,\\n    \"beta_strand\" TEXT,\\n    \"helix\" TEXT,\\n    \"turn\" TEXT,\\n    \"pubmed_id\" TEXT,\\n    \"date_of_creation\" TEXT,\\n    \"date_of_last_modification\" TEXT,\\n    \"date_of_last_sequence_modification\" TEXT,\\n    \"entry_version\" TEXT,\\n    \"coiled_coil\" TEXT,\\n    \"compositional_bias\" TEXT,\\n    \"domain_cc\" TEXT,\\n    \"domain_ft\" TEXT,\\n    \"motif\" TEXT,\\n    \"protein_families\" TEXT,\\n    \"region\" TEXT,\\n    \"repeat\" TEXT,\\n    \"zinc_finger\" TEXT\\n)\\n\\nCREATE TABLE measurement (\\n    \"protein_group\" TEXT,\\n    \"protein_ids\" TEXT,\\n    \"genes\" TEXT,\\n    \"citrullination_r\" BOOLEAN,\\n    \"run\" TEXT,\\n    \"intensity\" REAL\\n)\\n\\nCREATE TABLE sample (\\n    \"run\" TEXT PRIMARY KEY,\\n    \"ipas\" TEXT,\\n    \"id\" TEXT,\\n    \"plate\" TEXT,\\n    \"assay\" TEXT,\\n    \"evotip\" TEXT,\\n    \"well\" TEXT,\\n    \"mced\" TEXT,\\n    \"consider\" TEXT,\\n    \"is_case\" BOOLEAN,\\n    \"sex_1_male_0_female\" INTEGER,\\n    \"cancer_type\" TEXT,\\n    \"subtype\" TEXT,\\n    \"stage\" TEXT,\\n    \"age\" INTEGER,\\n    \"smoking_status\" TEXT,\\n    \"notes\" TEXT,\\n    \"check\" BOOLEAN,\\n    \"group\" TEXT\\n)\\n\\n\\n===Additional Context \\n\\n\\n         In the database, the cancer_type column is used to store the type of cancer. The values and their meanings are as follows:\\n         Breast: Breast cancer\\n         Esophageal: Esophagus cancer\\n         Lung: Lung cancer\\n         Liver: Liver cancer\\n         PDAC: Pancreatic ductal adenocarcinoma\\n         Ovarian: Ovarian cancer\\n         Gastric: Gastric cancer\\n         Rectal: Rectal cancer\\n         GEJ: Gastroesophageal junction cancer\\n         Benign from SoCC cohort: Benign from SoCC cohort\\n         MERIT Control: MERIT cohort a healthy control\\n         LEAP Control: LEAP cohort a healthy control\\n         When your see a name on the right side of this lookup table, you should use the value on the left side of the lookup table to replace it in your query.\\n\\n\\n\\n         In the measurement table, the protein_group column is used to store the name of protein for the intensity of that record.\\n         The genes column is used to store the genes of the proteins for the intensity of that record.\\n         The citrullination_r column is used to store the citrullination status of the proteins for the intensity of that record.\\n         The run column indicate which sample the intensity is measured from. In combination with the protein_group column, it can be used to find the intensity of a specific protein from a specific sample.\\n         \\n\\n===Response Guidelines \\n1. If the provided context is sufficient, please generate a valid SQL query without any explanations for the question. \\n2. If the provided context is almost sufficient but requires knowledge of a specific string in a particular column, please generate an intermediate SQL query to find the distinct strings in that column. Prepend the query with a comment saying intermediate_sql \\n3. If the provided context is insufficient, please explain why it can\\'t be generated. \\n4. Please use the most relevant table(s). \\n5. If the question has been asked and answered before, please repeat the answer exactly as it was given before. \\n6. Ensure that the output SQL is SQLite-compliant and executable, and free of syntax errors. \\n'}, {'role': 'user', 'content': 'what is expression of protein P02649 in breast cancer?'}, {'role': 'assistant', 'content': \"SELECT T2.intensity FROM sample AS T1 INNER JOIN measurement AS T2 ON T1.run = T2.run WHERE T1.cancer_type = 'Breast' AND T2.protein_group = 'P02649'\"}, {'role': 'user', 'content': 'what protein is related to cancer?'}]\n",
      "Connection error.\n"
     ]
    }
   ],
   "source": [
    "# vn.ask(\"What are names of proteins with citrullination in breast cancer?\")\n",
    "# vn.ask(\"what is expression of protein P02649 in breast cancer?\", auto_train=False)\n",
    "sql , df, _ = vn.ask(\"what protein is related to cancer?\", auto_train=False, visualize=False)"
   ]
  },
  {
   "cell_type": "code",
   "execution_count": 23,
   "metadata": {},
   "outputs": [
    {
     "data": {
      "text/html": [
       "<div>\n",
       "<style scoped>\n",
       "    .dataframe tbody tr th:only-of-type {\n",
       "        vertical-align: middle;\n",
       "    }\n",
       "\n",
       "    .dataframe tbody tr th {\n",
       "        vertical-align: top;\n",
       "    }\n",
       "\n",
       "    .dataframe thead th {\n",
       "        text-align: right;\n",
       "    }\n",
       "</style>\n",
       "<table border=\"1\" class=\"dataframe\">\n",
       "  <thead>\n",
       "    <tr style=\"text-align: right;\">\n",
       "      <th></th>\n",
       "      <th>protein_group</th>\n",
       "    </tr>\n",
       "  </thead>\n",
       "  <tbody>\n",
       "    <tr>\n",
       "      <th>0</th>\n",
       "      <td>P02649</td>\n",
       "    </tr>\n",
       "    <tr>\n",
       "      <th>1</th>\n",
       "      <td>P02649</td>\n",
       "    </tr>\n",
       "    <tr>\n",
       "      <th>2</th>\n",
       "      <td>P02649</td>\n",
       "    </tr>\n",
       "    <tr>\n",
       "      <th>3</th>\n",
       "      <td>P02649</td>\n",
       "    </tr>\n",
       "    <tr>\n",
       "      <th>4</th>\n",
       "      <td>P02649</td>\n",
       "    </tr>\n",
       "    <tr>\n",
       "      <th>...</th>\n",
       "      <td>...</td>\n",
       "    </tr>\n",
       "    <tr>\n",
       "      <th>691421</th>\n",
       "      <td>Q9Y573</td>\n",
       "    </tr>\n",
       "    <tr>\n",
       "      <th>691422</th>\n",
       "      <td>Q9Y573-2</td>\n",
       "    </tr>\n",
       "    <tr>\n",
       "      <th>691423</th>\n",
       "      <td>P57071-2</td>\n",
       "    </tr>\n",
       "    <tr>\n",
       "      <th>691424</th>\n",
       "      <td>P57071-5</td>\n",
       "    </tr>\n",
       "    <tr>\n",
       "      <th>691425</th>\n",
       "      <td>Q5JU67</td>\n",
       "    </tr>\n",
       "  </tbody>\n",
       "</table>\n",
       "<p>691426 rows × 1 columns</p>\n",
       "</div>"
      ],
      "text/plain": [
       "       protein_group\n",
       "0             P02649\n",
       "1             P02649\n",
       "2             P02649\n",
       "3             P02649\n",
       "4             P02649\n",
       "...              ...\n",
       "691421        Q9Y573\n",
       "691422      Q9Y573-2\n",
       "691423      P57071-2\n",
       "691424      P57071-5\n",
       "691425        Q5JU67\n",
       "\n",
       "[691426 rows x 1 columns]"
      ]
     },
     "execution_count": 23,
     "metadata": {},
     "output_type": "execute_result"
    }
   ],
   "source": [
    "# need second agent to do the data analysis\n",
    "df"
   ]
  },
  {
   "cell_type": "code",
   "execution_count": null,
   "metadata": {},
   "outputs": [],
   "source": [
    "prompt = '''\n",
    "You are data analysis expert. You are give a question and corresponding data. You need to analyze the data and answer the question.\n",
    "\n",
    "Question: What is expression of protein P02649 in breast cancer?\n",
    "Data:\n",
    "'''"
   ]
  }
 ],
 "metadata": {
  "kernelspec": {
   "display_name": ".venv",
   "language": "python",
   "name": "python3"
  },
  "language_info": {
   "codemirror_mode": {
    "name": "ipython",
    "version": 3
   },
   "file_extension": ".py",
   "mimetype": "text/x-python",
   "name": "python",
   "nbconvert_exporter": "python",
   "pygments_lexer": "ipython3",
   "version": "3.12.6"
  }
 },
 "nbformat": 4,
 "nbformat_minor": 2
}
