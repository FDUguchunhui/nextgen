{
 "cells": [
  {
   "cell_type": "code",
   "execution_count": 4,
   "metadata": {},
   "outputs": [
    {
     "data": {
      "text/plain": [
       "True"
      ]
     },
     "execution_count": 4,
     "metadata": {},
     "output_type": "execute_result"
    }
   ],
   "source": [
    "import vanna\n",
    "from vanna.remote import VannaDefault\n",
    "from vanna.openai import OpenAI_Chat\n",
    "from vanna.chromadb import ChromaDB_VectorStore\n",
    "import dotenv\n",
    "import os\n",
    "dotenv.load_dotenv()"
   ]
  },
  {
   "cell_type": "code",
   "execution_count": 5,
   "metadata": {},
   "outputs": [],
   "source": [
    "OPENAI_API_KEY = os.getenv('OPENAI_API_KEY')"
   ]
  },
  {
   "cell_type": "code",
   "execution_count": 11,
   "metadata": {},
   "outputs": [],
   "source": [
    "vn = VannaDefault(model='chinook', api_key=vanna.get_api_key('fduguchunhui@gmail.com'))\n",
    "vn.connect_to_sqlite('https://vanna.ai/Chinook.sqlite')"
   ]
  },
  {
   "cell_type": "code",
   "execution_count": null,
   "metadata": {},
   "outputs": [],
   "source": [
    "df_ddl = vn.run_sql(\"SELECT type, sql FROM sqlite_master WHERE sql is not null\")\n",
    "\n",
    "for ddl in df_ddl['sql'].to_list():\n",
    "  vn.train(ddl=ddl)"
   ]
  },
  {
   "cell_type": "code",
   "execution_count": 19,
   "metadata": {},
   "outputs": [],
   "source": [
    "class MyVanna(ChromaDB_VectorStore, OpenAI_Chat):\n",
    "    def __init__(self, config=None):\n",
    "        ChromaDB_VectorStore.__init__(self, config=config)\n",
    "        OpenAI_Chat.__init__(self, config=config)\n",
    "\n",
    "vn = MyVanna(config={'api_key': OPENAI_API_KEY,\n",
    "                      'model': 'gpt-4o-mini'})"
   ]
  },
  {
   "cell_type": "code",
   "execution_count": 17,
   "metadata": {},
   "outputs": [
    {
     "name": "stdout",
     "output_type": "stream",
     "text": [
      "Adding ddl: \n",
      "    CREATE TABLE IF NOT EXISTS my-table (\n",
      "        id INT PRIMARY KEY,\n",
      "        name VARCHAR(100),\n",
      "        age INT\n",
      "    )\n",
      "\n",
      "Adding documentation....\n",
      "Question generated with sql: What are the details for the individual named John Doe? \n",
      "Adding SQL...\n"
     ]
    },
    {
     "data": {
      "text/plain": [
       "''"
      ]
     },
     "execution_count": 17,
     "metadata": {},
     "output_type": "execute_result"
    }
   ],
   "source": [
    "# The following are methods for adding training data. Make sure you modify the examples to match your database.\n",
    "\n",
    "# DDL statements are powerful because they specify table names, colume names, types, and potentially relationships\n",
    "vn.train(ddl=\"\"\"\n",
    "    CREATE TABLE IF NOT EXISTS my-table (\n",
    "        id INT PRIMARY KEY,\n",
    "        name VARCHAR(100),\n",
    "        age INT\n",
    "    )\n",
    "\"\"\")\n",
    "\n",
    "# Sometimes you may want to add documentation about your business terminology or definitions.\n",
    "vn.train(documentation=\"Our business defines OTIF score as the percentage of orders that are delivered on time and in full\")\n",
    "\n",
    "# You can also add SQL queries to your training data. This is useful if you have some queries already laying around. You can just copy and paste those from your editor to begin generating new SQL.\n",
    "vn.train(sql=\"SELECT * FROM my-table WHERE name = 'John Doe'\")"
   ]
  },
  {
   "cell_type": "code",
   "execution_count": 25,
   "metadata": {},
   "outputs": [
    {
     "data": {
      "text/html": [
       "<div>\n",
       "<style scoped>\n",
       "    .dataframe tbody tr th:only-of-type {\n",
       "        vertical-align: middle;\n",
       "    }\n",
       "\n",
       "    .dataframe tbody tr th {\n",
       "        vertical-align: top;\n",
       "    }\n",
       "\n",
       "    .dataframe thead th {\n",
       "        text-align: right;\n",
       "    }\n",
       "</style>\n",
       "<table border=\"1\" class=\"dataframe\">\n",
       "  <thead>\n",
       "    <tr style=\"text-align: right;\">\n",
       "      <th></th>\n",
       "      <th>id</th>\n",
       "      <th>question</th>\n",
       "      <th>content</th>\n",
       "      <th>training_data_type</th>\n",
       "    </tr>\n",
       "  </thead>\n",
       "  <tbody>\n",
       "    <tr>\n",
       "      <th>0</th>\n",
       "      <td>f2aa8665-80fa-581c-a6d6-723fd746c41f-sql</td>\n",
       "      <td>What are the details for the individual named ...</td>\n",
       "      <td>SELECT * FROM my-table WHERE name = 'John Doe'</td>\n",
       "      <td>sql</td>\n",
       "    </tr>\n",
       "    <tr>\n",
       "      <th>0</th>\n",
       "      <td>4aafa9de-6443-5409-86f9-5d581327d6a0-ddl</td>\n",
       "      <td>None</td>\n",
       "      <td>\\n    CREATE TABLE IF NOT EXISTS my-table (\\n ...</td>\n",
       "      <td>ddl</td>\n",
       "    </tr>\n",
       "  </tbody>\n",
       "</table>\n",
       "</div>"
      ],
      "text/plain": [
       "                                         id  \\\n",
       "0  f2aa8665-80fa-581c-a6d6-723fd746c41f-sql   \n",
       "0  4aafa9de-6443-5409-86f9-5d581327d6a0-ddl   \n",
       "\n",
       "                                            question  \\\n",
       "0  What are the details for the individual named ...   \n",
       "0                                               None   \n",
       "\n",
       "                                             content training_data_type  \n",
       "0     SELECT * FROM my-table WHERE name = 'John Doe'                sql  \n",
       "0  \\n    CREATE TABLE IF NOT EXISTS my-table (\\n ...                ddl  "
      ]
     },
     "execution_count": 25,
     "metadata": {},
     "output_type": "execute_result"
    }
   ],
   "source": [
    "# At any time you can inspect what training data the package is able to reference\n",
    "training_data = vn.get_training_data()\n",
    "training_data"
   ]
  }
 ],
 "metadata": {
  "kernelspec": {
   "display_name": ".venv",
   "language": "python",
   "name": "python3"
  },
  "language_info": {
   "codemirror_mode": {
    "name": "ipython",
    "version": 3
   },
   "file_extension": ".py",
   "mimetype": "text/x-python",
   "name": "python",
   "nbconvert_exporter": "python",
   "pygments_lexer": "ipython3",
   "version": "3.12.10"
  }
 },
 "nbformat": 4,
 "nbformat_minor": 2
}
